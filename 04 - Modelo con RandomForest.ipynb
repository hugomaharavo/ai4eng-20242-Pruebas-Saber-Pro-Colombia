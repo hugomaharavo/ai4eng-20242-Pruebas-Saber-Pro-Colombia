{
  "nbformat": 4,
  "nbformat_minor": 0,
  "metadata": {
    "colab": {
      "provenance": [],
      "authorship_tag": "ABX9TyMdndOIR7WPCY+EfxHmTyv5",
      "include_colab_link": true
    },
    "kernelspec": {
      "name": "python3",
      "display_name": "Python 3"
    },
    "language_info": {
      "name": "python"
    }
  },
  "cells": [
    {
      "cell_type": "markdown",
      "metadata": {
        "id": "view-in-github",
        "colab_type": "text"
      },
      "source": [
        "<a href=\"https://colab.research.google.com/github/hugomaharavo/ai4eng-20242-Pruebas-Saber-Pro-Colombia/blob/main/04%20-%20Modelo%20con%20preprocesado%20de%20todas%20las%20columnas%20de%20train%20y%20test%20en%20la%20misma%20cedula%20y%20Modelo%20RandomForest.ipynb\" target=\"_parent\"><img src=\"https://colab.research.google.com/assets/colab-badge.svg\" alt=\"Open In Colab\"/></a>"
      ]
    },
    {
      "cell_type": "code",
      "execution_count": null,
      "metadata": {
        "colab": {
          "base_uri": "https://localhost:8080/"
        },
        "id": "BQ2qtfSYb2q8",
        "outputId": "33735c0d-a995-49e4-e37d-89d69051cb1a"
      },
      "outputs": [
        {
          "output_type": "stream",
          "name": "stdout",
          "text": [
            "Collecting opendatasets\n",
            "  Downloading opendatasets-0.1.22-py3-none-any.whl.metadata (9.2 kB)\n",
            "Requirement already satisfied: tqdm in /usr/local/lib/python3.10/dist-packages (from opendatasets) (4.66.6)\n",
            "Requirement already satisfied: kaggle in /usr/local/lib/python3.10/dist-packages (from opendatasets) (1.6.17)\n",
            "Requirement already satisfied: click in /usr/local/lib/python3.10/dist-packages (from opendatasets) (8.1.7)\n",
            "Requirement already satisfied: six>=1.10 in /usr/local/lib/python3.10/dist-packages (from kaggle->opendatasets) (1.16.0)\n",
            "Requirement already satisfied: certifi>=2023.7.22 in /usr/local/lib/python3.10/dist-packages (from kaggle->opendatasets) (2024.8.30)\n",
            "Requirement already satisfied: python-dateutil in /usr/local/lib/python3.10/dist-packages (from kaggle->opendatasets) (2.8.2)\n",
            "Requirement already satisfied: requests in /usr/local/lib/python3.10/dist-packages (from kaggle->opendatasets) (2.32.3)\n",
            "Requirement already satisfied: python-slugify in /usr/local/lib/python3.10/dist-packages (from kaggle->opendatasets) (8.0.4)\n",
            "Requirement already satisfied: urllib3 in /usr/local/lib/python3.10/dist-packages (from kaggle->opendatasets) (2.2.3)\n",
            "Requirement already satisfied: bleach in /usr/local/lib/python3.10/dist-packages (from kaggle->opendatasets) (6.2.0)\n",
            "Requirement already satisfied: webencodings in /usr/local/lib/python3.10/dist-packages (from bleach->kaggle->opendatasets) (0.5.1)\n",
            "Requirement already satisfied: text-unidecode>=1.3 in /usr/local/lib/python3.10/dist-packages (from python-slugify->kaggle->opendatasets) (1.3)\n",
            "Requirement already satisfied: charset-normalizer<4,>=2 in /usr/local/lib/python3.10/dist-packages (from requests->kaggle->opendatasets) (3.4.0)\n",
            "Requirement already satisfied: idna<4,>=2.5 in /usr/local/lib/python3.10/dist-packages (from requests->kaggle->opendatasets) (3.10)\n",
            "Downloading opendatasets-0.1.22-py3-none-any.whl (15 kB)\n",
            "Installing collected packages: opendatasets\n",
            "Successfully installed opendatasets-0.1.22\n",
            "Please provide your Kaggle credentials to download this dataset. Learn more: http://bit.ly/kaggle-creds\n",
            "Your Kaggle username: hugomaharavo\n",
            "Your Kaggle Key: ··········\n",
            "Downloading udea-ai4eng-20242.zip to ./udea-ai4eng-20242\n"
          ]
        },
        {
          "output_type": "stream",
          "name": "stderr",
          "text": [
            "100%|██████████| 20.1M/20.1M [00:00<00:00, 90.6MB/s]\n"
          ]
        },
        {
          "output_type": "stream",
          "name": "stdout",
          "text": [
            "\n",
            "Extracting archive ./udea-ai4eng-20242/udea-ai4eng-20242.zip to ./udea-ai4eng-20242\n",
            "Fichiers disponibles dans le dossier :  ['train.csv', 'test.csv', 'submission_example.csv']\n"
          ]
        }
      ],
      "source": [
        "# ACCEDER A LOS ARCHOIVOS EN KAGGLE\n",
        "# 1 - Instale la biblioteca opendatasets para descargar conjuntos de datos directamente de Kaggle\n",
        "!pip install opendatasets\n",
        "\n",
        "# 2 - Importar los módulos necesarios\n",
        "import opendatasets as kaggle_data\n",
        "import os\n",
        "\n",
        "# 3 - Enlace al concurso de Kaggle\n",
        "competition_url = \"https://www.kaggle.com/competitions/udea-ai4eng-20242\"\n",
        "\n",
        "# 4 - Descargar los datos del concurso\n",
        "kaggle_data.download(competition_url)\n",
        "\n",
        "# 5 - Cambiar de directorio para acceder a la carpeta del conjunto de datos descargado\n",
        "project_dir = \"udea-ai4eng-20242\"\n",
        "os.chdir(project_dir)\n",
        "\n",
        "# 6 - Comprobación de los archivos descargados\n",
        "files = os.listdir()\n",
        "print(\"Fichiers disponibles dans le dossier : \", files)"
      ]
    },
    {
      "cell_type": "code",
      "source": [
        "# IMPORTER LES LIBRAIRIES\n",
        "import pandas as pd\n",
        "from sklearn.pipeline import Pipeline\n",
        "from sklearn.compose import ColumnTransformer\n",
        "from sklearn.preprocessing import OneHotEncoder\n",
        "from sklearn.impute import SimpleImputer\n",
        "from sklearn.ensemble import RandomForestClassifier\n",
        "from sklearn.model_selection import train_test_split"
      ],
      "metadata": {
        "id": "omJCJq7Qiqzx"
      },
      "execution_count": null,
      "outputs": []
    },
    {
      "cell_type": "code",
      "source": [
        "# 2 - CARGAR LOS DATOS INICIALES\n",
        "train_df = pd.read_csv(\"train.csv\")\n",
        "test_df = pd.read_csv(\"test.csv\")\n",
        "\n",
        "# 3 - APLICAR CORRESPONDENCIAS Y CONVERSIONES\n",
        "# Convertir valores ordinales en numéricos\n",
        "tuition_average_mapping = {\n",
        "    \"No pagó matrícula\": 0.0, \"Menos de 500 mil\": 0.25, \"Entre 500 mil y menos de 1 millón\": 0.75,\n",
        "    \"Entre 1 millón y menos de 2.5 millones\": 1.75, \"Entre 2.5 millones y menos de 4 millones\": 3.25,\n",
        "    \"Entre 4 millones y menos de 5.5 millones\": 4.75, \"Entre 5.5 millones y menos de 7 millones\": 6.25, \"Más de 7 millones\": 7.5\n",
        "}\n",
        "train_df['ESTU_VALORMATRICULAUNIVERSIDAD'] = train_df['ESTU_VALORMATRICULAUNIVERSIDAD'].map(tuition_average_mapping)\n",
        "test_df['ESTU_VALORMATRICULAUNIVERSIDAD'] = test_df['ESTU_VALORMATRICULAUNIVERSIDAD'].map(tuition_average_mapping)\n",
        "\n",
        "# Codificación de FAMI_ESTRATOVIVIENDA\n",
        "housing_strata_mapping = {\"Estrato 1\": 1, \"Estrato 2\": 2, \"Estrato 3\": 3, \"Estrato 4\": 4, \"Estrato 5\": 5, \"Estrato 6\": 6, \"Sin Estrato\": None}\n",
        "train_df['FAMI_ESTRATOVIVIENDA'] = train_df['FAMI_ESTRATOVIVIENDA'].map(housing_strata_mapping)\n",
        "test_df['FAMI_ESTRATOVIVIENDA'] = test_df['FAMI_ESTRATOVIVIENDA'].map(housing_strata_mapping)\n",
        "\n",
        "# Codificación de FAMI_TIENEINTERNET y ESTU_PAGOMATRICULAPROPIO\n",
        "binary_mappings = {\"Si\": 1, \"No\": 0}\n",
        "train_df['FAMI_TIENEINTERNET'] = train_df['FAMI_TIENEINTERNET'].map(binary_mappings)\n",
        "test_df['FAMI_TIENEINTERNET'] = test_df['FAMI_TIENEINTERNET'].map(binary_mappings)\n",
        "train_df['ESTU_PAGOMATRICULAPROPIO'] = train_df['ESTU_PAGOMATRICULAPROPIO'].map(binary_mappings)\n",
        "test_df['ESTU_PAGOMATRICULAPROPIO'] = test_df['ESTU_PAGOMATRICULAPROPIO'].map(binary_mappings)\n",
        "\n",
        "# Codificación de la variable de destino\n",
        "target_mapping = {'bajo': 0, 'medio-bajo': 1, 'medio-alto': 2, 'alto': 3}\n",
        "train_df['RENDIMIENTO_GLOBAL'] = train_df['RENDIMIENTO_GLOBAL'].map(target_mapping)\n",
        "\n",
        "# 4 - SEPARAR LAS CARACTERÍSTICAS Y EL OBJETIVO\n",
        "X_train = train_df.drop(columns=['ID', 'RENDIMIENTO_GLOBAL'])\n",
        "y_train = train_df['RENDIMIENTO_GLOBAL']\n",
        "X_test = test_df.drop(columns=['ID'])\n",
        "\n",
        "# 5 - PROCESO PARA PRETRATAMIENTO\n",
        "numeric_features = X_train.select_dtypes(include=['float64', 'int64']).columns\n",
        "categorical_features = X_train.select_dtypes(include=['object']).columns\n",
        "\n",
        "# Proceso previo con OneHotEncoder para variables categóricas e imputación de valores perdidos\n",
        "preprocessor = ColumnTransformer(\n",
        "    transformers=[\n",
        "        ('num', SimpleImputer(strategy='median'), numeric_features),\n",
        "        ('cat', Pipeline(steps=[\n",
        "            ('imputer', SimpleImputer(strategy='most_frequent')),\n",
        "            ('onehot', OneHotEncoder(handle_unknown='ignore'))\n",
        "        ]), categorical_features)\n",
        "    ]\n",
        ")\n",
        "\n",
        "# 6 - ENTRENAR EL MODELO\n",
        "pipeline = Pipeline(steps=[('preprocessor', preprocessor),\n",
        "                           ('classifier', RandomForestClassifier(n_estimators=100, random_state=42))])\n",
        "\n",
        "pipeline.fit(X_train, y_train)\n",
        "\n",
        "# 7 - HACER PREDICCIONES SOBRE EL CONJUNTO DE DATOS test.csv\n",
        "predictions = pipeline.predict(X_test)\n",
        "\n",
        "# 8 - CONVERTIR LAS PREDICCIONES EN PALABRAS ORIGINALES\n",
        "target_inverse_mapping = {0: 'bajo', 1: 'medio-bajo', 2: 'medio-alto', 3: 'alto'}\n",
        "predictions_labels = [target_inverse_mapping[pred] for pred in predictions]\n",
        "\n",
        "# 9 - CREAR EL ARCHIVO DE SUMISIÓN\n",
        "submission_df = pd.DataFrame({\n",
        "    \"ID\": test_df['ID'],\n",
        "    \"RENDIMIENTO_GLOBAL\": predictions_labels\n",
        "})\n",
        "submission_df.to_csv(\"submission.csv\", index=False)\n"
      ],
      "metadata": {
        "id": "XUMWQDZMiie9"
      },
      "execution_count": null,
      "outputs": []
    }
  ]
}

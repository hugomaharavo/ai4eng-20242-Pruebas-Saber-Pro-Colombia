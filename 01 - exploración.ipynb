# 01 - exploración.ipynb

## Instale la biblioteca opendatasets para descargar conjuntos de datos directamente de Kaggle
!pip install opendatasets

# Importar los módulos necesarios
import opendatasets as kaggle_data
import os

# Enlace al concurso de Kaggle
competition_url = "https://www.kaggle.com/competitions/udea-ai4eng-20242"

# Descargar los datos del concurso
kaggle_data.download(competition_url)

# Cambiar de directorio para acceder a la carpeta del conjunto de datos descargado
project_dir = "udea-ai4eng-20242"
os.chdir(project_dir)

# Comprobación de los archivos descargados
files = os.listdir()
print("Fichiers disponibles dans le dossier : ", files)

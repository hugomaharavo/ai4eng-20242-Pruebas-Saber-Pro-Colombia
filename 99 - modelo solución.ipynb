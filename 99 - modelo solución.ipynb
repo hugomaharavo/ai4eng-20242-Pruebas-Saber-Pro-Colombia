{
  "nbformat": 4,
  "nbformat_minor": 0,
  "metadata": {
    "colab": {
      "provenance": [],
      "authorship_tag": "ABX9TyOW88p3Y1f53R99xWUKU/6a",
      "include_colab_link": true
    },
    "kernelspec": {
      "name": "python3",
      "display_name": "Python 3"
    },
    "language_info": {
      "name": "python"
    }
  },
  "cells": [
    {
      "cell_type": "markdown",
      "metadata": {
        "id": "view-in-github",
        "colab_type": "text"
      },
      "source": [
        "<a href=\"https://colab.research.google.com/github/hugomaharavo/ai4eng-20242-Pruebas-Saber-Pro-Colombia/blob/main/99%20-%20modelo%20soluci%C3%B3n.ipynb\" target=\"_parent\"><img src=\"https://colab.research.google.com/assets/colab-badge.svg\" alt=\"Open In Colab\"/></a>"
      ]
    },
    {
      "cell_type": "code",
      "source": [
        "# ACCEDER A LOS ARCHIVOS EN KAGGLE\n",
        "# 1.1 - Instale la biblioteca opendatasets para descargar conjuntos de datos directamente de Kaggle\n",
        "!pip install opendatasets\n",
        "\n",
        "# 1.2 - Importar los módulos necesarios\n",
        "import opendatasets as kaggle_data\n",
        "import os\n",
        "\n",
        "# 1.3 - Enlace al concurso de Kaggle\n",
        "competition_url = \"https://www.kaggle.com/competitions/udea-ai4eng-20242\"\n",
        "\n",
        "# 1.4 - Descargar los datos del concurso\n",
        "kaggle_data.download(competition_url)\n",
        "\n",
        "# 1.5 - Cambiar de directorio para acceder a la carpeta del conjunto de datos descargado\n",
        "project_dir = \"udea-ai4eng-20242\"\n",
        "os.chdir(project_dir)\n",
        "\n",
        "# 1.6 - Comprobación de los archivos descargados\n",
        "files = os.listdir()\n",
        "print(\"Fichiers disponibles dans le dossier : \", files)"
      ],
      "metadata": {
        "colab": {
          "base_uri": "https://localhost:8080/"
        },
        "id": "k7A-C39WJsec",
        "outputId": "135d14de-64da-4046-df49-1906c0ff2000"
      },
      "execution_count": 1,
      "outputs": [
        {
          "output_type": "stream",
          "name": "stdout",
          "text": [
            "Collecting opendatasets\n",
            "  Downloading opendatasets-0.1.22-py3-none-any.whl.metadata (9.2 kB)\n",
            "Requirement already satisfied: tqdm in /usr/local/lib/python3.10/dist-packages (from opendatasets) (4.66.5)\n",
            "Requirement already satisfied: kaggle in /usr/local/lib/python3.10/dist-packages (from opendatasets) (1.6.17)\n",
            "Requirement already satisfied: click in /usr/local/lib/python3.10/dist-packages (from opendatasets) (8.1.7)\n",
            "Requirement already satisfied: six>=1.10 in /usr/local/lib/python3.10/dist-packages (from kaggle->opendatasets) (1.16.0)\n",
            "Requirement already satisfied: certifi>=2023.7.22 in /usr/local/lib/python3.10/dist-packages (from kaggle->opendatasets) (2024.8.30)\n",
            "Requirement already satisfied: python-dateutil in /usr/local/lib/python3.10/dist-packages (from kaggle->opendatasets) (2.8.2)\n",
            "Requirement already satisfied: requests in /usr/local/lib/python3.10/dist-packages (from kaggle->opendatasets) (2.32.3)\n",
            "Requirement already satisfied: python-slugify in /usr/local/lib/python3.10/dist-packages (from kaggle->opendatasets) (8.0.4)\n",
            "Requirement already satisfied: urllib3 in /usr/local/lib/python3.10/dist-packages (from kaggle->opendatasets) (2.2.3)\n",
            "Requirement already satisfied: bleach in /usr/local/lib/python3.10/dist-packages (from kaggle->opendatasets) (6.1.0)\n",
            "Requirement already satisfied: webencodings in /usr/local/lib/python3.10/dist-packages (from bleach->kaggle->opendatasets) (0.5.1)\n",
            "Requirement already satisfied: text-unidecode>=1.3 in /usr/local/lib/python3.10/dist-packages (from python-slugify->kaggle->opendatasets) (1.3)\n",
            "Requirement already satisfied: charset-normalizer<4,>=2 in /usr/local/lib/python3.10/dist-packages (from requests->kaggle->opendatasets) (3.3.2)\n",
            "Requirement already satisfied: idna<4,>=2.5 in /usr/local/lib/python3.10/dist-packages (from requests->kaggle->opendatasets) (3.10)\n",
            "Downloading opendatasets-0.1.22-py3-none-any.whl (15 kB)\n",
            "Installing collected packages: opendatasets\n",
            "Successfully installed opendatasets-0.1.22\n",
            "Please provide your Kaggle credentials to download this dataset. Learn more: http://bit.ly/kaggle-creds\n",
            "Your Kaggle username: hugomaharavo\n",
            "Your Kaggle Key: ··········\n",
            "Downloading udea-ai4eng-20242.zip to ./udea-ai4eng-20242\n"
          ]
        },
        {
          "output_type": "stream",
          "name": "stderr",
          "text": [
            "100%|██████████| 20.1M/20.1M [00:00<00:00, 100MB/s] \n"
          ]
        },
        {
          "output_type": "stream",
          "name": "stdout",
          "text": [
            "\n",
            "Extracting archive ./udea-ai4eng-20242/udea-ai4eng-20242.zip to ./udea-ai4eng-20242\n",
            "Fichiers disponibles dans le dossier :  ['train.csv', 'test.csv', 'submission_example.csv']\n"
          ]
        }
      ]
    },
    {
      "cell_type": "code",
      "execution_count": 5,
      "metadata": {
        "colab": {
          "base_uri": "https://localhost:8080/"
        },
        "id": "VSV6S6quJfJK",
        "outputId": "243ad884-3995-482d-9f6f-bec22ec96446"
      },
      "outputs": [
        {
          "output_type": "stream",
          "name": "stdout",
          "text": [
            "Dimensiones de la clasificación submission.csv (filas, columnas)  (296786, 2)\n"
          ]
        }
      ],
      "source": [
        "# 2 - IMPORTAR BIBLIOTECAS\n",
        "import pandas as pd\n",
        "from sklearn.pipeline import Pipeline\n",
        "from sklearn.compose import ColumnTransformer\n",
        "from sklearn.preprocessing import OneHotEncoder\n",
        "from sklearn.impute import SimpleImputer\n",
        "from sklearn.tree import DecisionTreeClassifier\n",
        "\n",
        "# 3 - CARGAR LOS DATOS INICIALES\n",
        "train_df = pd.read_csv(\"train.csv\")\n",
        "test_df = pd.read_csv(\"test.csv\")\n",
        "\n",
        "# 4 - EXCLUIR COLUMNAS DE ALTA CARDINALIDAD\n",
        "train_df = train_df.drop(columns=['ESTU_PRGM_ACADEMICO', 'ESTU_PRGM_DEPARTAMENTO'])\n",
        "test_df = test_df.drop(columns=['ESTU_PRGM_ACADEMICO', 'ESTU_PRGM_DEPARTAMENTO'])\n",
        "\n",
        "# 5 - APLICAR MAPAS Y CONVERSIONES\n",
        "# 5.1 - ESTU_VALORMATRICULAUNIVERSIDAD\n",
        "tuition_average_mapping = {\n",
        "    \"No pagó matrícula\": 0.0, \"Menos de 500 mil\": 0.25, \"Entre 500 mil y menos de 1 millón\": 0.75,\n",
        "    \"Entre 1 millón y menos de 2.5 millones\": 1.75, \"Entre 2.5 millones y menos de 4 millones\": 3.25,\n",
        "    \"Entre 4 millions et moins de 5.5 millions\": 4.75, \"Entre 5.5 millions et moins de 7 millions\": 6.25, \"Más de 7 millones\": 7.5\n",
        "}\n",
        "train_df['ESTU_VALORMATRICULAUNIVERSIDAD'] = train_df['ESTU_VALORMATRICULAUNIVERSIDAD'].map(tuition_average_mapping)\n",
        "test_df['ESTU_VALORMATRICULAUNIVERSIDAD'] = test_df['ESTU_VALORMATRICULAUNIVERSIDAD'].map(tuition_average_mapping)\n",
        "\n",
        "# 5.2 - FAMI_ESTRATOVIVIENDA\n",
        "housing_strata_mapping = {\"Estrato 1\": 1, \"Estrato 2\": 2, \"Estrato 3\": 3, \"Estrato 4\": 4, \"Estrato 5\": 5, \"Estrato 6\": 6, \"Sin Estrato\": None}\n",
        "train_df['FAMI_ESTRATOVIVIENDA'] = train_df['FAMI_ESTRATOVIVIENDA'].map(housing_strata_mapping)\n",
        "test_df['FAMI_ESTRATOVIVIENDA'] = test_df['FAMI_ESTRATOVIVIENDA'].map(housing_strata_mapping)\n",
        "\n",
        "# 5.3 - FAMI_TIENEINTERNET et ESTU_PAGOMATRICULAPROPIO\n",
        "binary_mappings = {\"Si\": 1, \"No\": 0}\n",
        "train_df['FAMI_TIENEINTERNET'] = train_df['FAMI_TIENEINTERNET'].map(binary_mappings)\n",
        "test_df['FAMI_TIENEINTERNET'] = test_df['FAMI_TIENEINTERNET'].map(binary_mappings)\n",
        "train_df['ESTU_PAGOMATRICULAPROPIO'] = train_df['ESTU_PAGOMATRICULAPROPIO'].map(binary_mappings)\n",
        "test_df['ESTU_PAGOMATRICULAPROPIO'] = test_df['ESTU_PAGOMATRICULAPROPIO'].map(binary_mappings)\n",
        "\n",
        "# 5.4 - Codificación de la variable objetivo\n",
        "target_mapping = {'bajo': 0, 'medio-bajo': 1, 'medio-alto': 2, 'alto': 3}\n",
        "train_df['RENDIMIENTO_GLOBAL'] = train_df['RENDIMIENTO_GLOBAL'].map(target_mapping)\n",
        "\n",
        "# 5.5 - Separación de características y variable objetivo\n",
        "X_train = train_df.drop(columns=['ID', 'RENDIMIENTO_GLOBAL'])\n",
        "y_train = train_df['RENDIMIENTO_GLOBAL']\n",
        "X_test = test_df.drop(columns=['ID'])\n",
        "\n",
        "\n",
        "# 6 - PROCESO PARA PRETRATAMIENTO\n",
        "# 6.1 - Identificación de columnas de baja cardinalidad para OneHotEncoder\n",
        "low_cardinality_cols = [col for col in X_train.columns if X_train[col].nunique() < 10 and X_train[col].dtype == \"object\"]\n",
        "\n",
        "# 6.2 - Proceso de pretratamiento simplificada\n",
        "preprocessor = ColumnTransformer(\n",
        "    transformers=[\n",
        "        ('num', SimpleImputer(strategy='median'), X_train.select_dtypes(include=['float64', 'int64']).columns),\n",
        "        ('cat', OneHotEncoder(handle_unknown='ignore'), low_cardinality_cols)\n",
        "    ]\n",
        ")\n",
        "\n",
        "# 6.3 - Proceso de entrenamiento con un modelo de árbol de decisión sin hiperparámetros\n",
        "pipeline = Pipeline(steps=[\n",
        "    ('preprocessor', preprocessor),\n",
        "    ('classifier', DecisionTreeClassifier())\n",
        "])\n",
        "\n",
        "# 7 - ENTRENAR EL MODELO\n",
        "pipeline.fit(X_train, y_train)\n",
        "\n",
        "# 8 - HACER PREDICCIONES SOBRE EL CONJUNTO DE DATOS test\n",
        "predictions = pipeline.predict(X_test)\n",
        "\n",
        "# 9 - CONVERTIR LAS PREDICCIONES EN LA REDACCIÓN ORIGINAL\n",
        "target_inverse_mapping = {0: 'bajo', 1: 'medio-bajo', 2: 'medio-alto', 3: 'alto'}\n",
        "predictions_labels = [target_inverse_mapping[pred] for pred in predictions]\n",
        "\n",
        "# 10 - CREA EL ARCHIVO DE PRESENTACIÓN, y asegúrate de que las dimensiones son consistentes con las requeridas por la competición de Kaggle.\n",
        "submission_df = pd.DataFrame({\n",
        "    \"ID\": test_df['ID'],\n",
        "    \"RENDIMIENTO_GLOBAL\": predictions_labels\n",
        "})\n",
        "submission_df.to_csv(\"submission.csv\", index=False)\n",
        "\n",
        "print(\"Dimensiones de la clasificación submission.csv (filas, columnas) \", submission_df.shape)"
      ]
    },
    {
      "cell_type": "code",
      "source": [
        "# 11 - DESCARGAR EL ARCHIVO\n",
        "from google.colab import files\n",
        "files.download('submission.csv')"
      ],
      "metadata": {
        "colab": {
          "base_uri": "https://localhost:8080/",
          "height": 17
        },
        "id": "RstykYStaKrj",
        "outputId": "329346c3-a9aa-4675-f823-ee7f935b138c"
      },
      "execution_count": 6,
      "outputs": [
        {
          "output_type": "display_data",
          "data": {
            "text/plain": [
              "<IPython.core.display.Javascript object>"
            ],
            "application/javascript": [
              "\n",
              "    async function download(id, filename, size) {\n",
              "      if (!google.colab.kernel.accessAllowed) {\n",
              "        return;\n",
              "      }\n",
              "      const div = document.createElement('div');\n",
              "      const label = document.createElement('label');\n",
              "      label.textContent = `Downloading \"${filename}\": `;\n",
              "      div.appendChild(label);\n",
              "      const progress = document.createElement('progress');\n",
              "      progress.max = size;\n",
              "      div.appendChild(progress);\n",
              "      document.body.appendChild(div);\n",
              "\n",
              "      const buffers = [];\n",
              "      let downloaded = 0;\n",
              "\n",
              "      const channel = await google.colab.kernel.comms.open(id);\n",
              "      // Send a message to notify the kernel that we're ready.\n",
              "      channel.send({})\n",
              "\n",
              "      for await (const message of channel.messages) {\n",
              "        // Send a message to notify the kernel that we're ready.\n",
              "        channel.send({})\n",
              "        if (message.buffers) {\n",
              "          for (const buffer of message.buffers) {\n",
              "            buffers.push(buffer);\n",
              "            downloaded += buffer.byteLength;\n",
              "            progress.value = downloaded;\n",
              "          }\n",
              "        }\n",
              "      }\n",
              "      const blob = new Blob(buffers, {type: 'application/binary'});\n",
              "      const a = document.createElement('a');\n",
              "      a.href = window.URL.createObjectURL(blob);\n",
              "      a.download = filename;\n",
              "      div.appendChild(a);\n",
              "      a.click();\n",
              "      div.remove();\n",
              "    }\n",
              "  "
            ]
          },
          "metadata": {}
        },
        {
          "output_type": "display_data",
          "data": {
            "text/plain": [
              "<IPython.core.display.Javascript object>"
            ],
            "application/javascript": [
              "download(\"download_162b2a08-9248-4422-b56d-d037c4219d4d\", \"submission.csv\", 4151740)"
            ]
          },
          "metadata": {}
        }
      ]
    }
  ]
}
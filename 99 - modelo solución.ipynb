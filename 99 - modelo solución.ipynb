{
  "nbformat": 4,
  "nbformat_minor": 0,
  "metadata": {
    "colab": {
      "provenance": [],
      "authorship_tag": "ABX9TyMFyw409GE4hrq1/pDXFszU",
      "include_colab_link": true
    },
    "kernelspec": {
      "name": "python3",
      "display_name": "Python 3"
    },
    "language_info": {
      "name": "python"
    }
  },
  "cells": [
    {
      "cell_type": "markdown",
      "metadata": {
        "id": "view-in-github",
        "colab_type": "text"
      },
      "source": [
        "<a href=\"https://colab.research.google.com/github/hugomaharavo/ai4eng-20242-Pruebas-Saber-Pro-Colombia/blob/main/99%20-%20modelo%20soluci%C3%B3n.ipynb\" target=\"_parent\"><img src=\"https://colab.research.google.com/assets/colab-badge.svg\" alt=\"Open In Colab\"/></a>"
      ]
    },
    {
      "cell_type": "code",
      "execution_count": 1,
      "metadata": {
        "colab": {
          "base_uri": "https://localhost:8080/"
        },
        "id": "Jms9GM9f-6GU",
        "outputId": "eeb9dad3-3b1b-47ec-8d16-3f1a5fbff714"
      },
      "outputs": [
        {
          "output_type": "stream",
          "name": "stdout",
          "text": [
            "Collecting opendatasets\n",
            "  Downloading opendatasets-0.1.22-py3-none-any.whl.metadata (9.2 kB)\n",
            "Requirement already satisfied: tqdm in /usr/local/lib/python3.10/dist-packages (from opendatasets) (4.66.6)\n",
            "Requirement already satisfied: kaggle in /usr/local/lib/python3.10/dist-packages (from opendatasets) (1.6.17)\n",
            "Requirement already satisfied: click in /usr/local/lib/python3.10/dist-packages (from opendatasets) (8.1.7)\n",
            "Requirement already satisfied: six>=1.10 in /usr/local/lib/python3.10/dist-packages (from kaggle->opendatasets) (1.16.0)\n",
            "Requirement already satisfied: certifi>=2023.7.22 in /usr/local/lib/python3.10/dist-packages (from kaggle->opendatasets) (2024.8.30)\n",
            "Requirement already satisfied: python-dateutil in /usr/local/lib/python3.10/dist-packages (from kaggle->opendatasets) (2.8.2)\n",
            "Requirement already satisfied: requests in /usr/local/lib/python3.10/dist-packages (from kaggle->opendatasets) (2.32.3)\n",
            "Requirement already satisfied: python-slugify in /usr/local/lib/python3.10/dist-packages (from kaggle->opendatasets) (8.0.4)\n",
            "Requirement already satisfied: urllib3 in /usr/local/lib/python3.10/dist-packages (from kaggle->opendatasets) (2.2.3)\n",
            "Requirement already satisfied: bleach in /usr/local/lib/python3.10/dist-packages (from kaggle->opendatasets) (6.2.0)\n",
            "Requirement already satisfied: webencodings in /usr/local/lib/python3.10/dist-packages (from bleach->kaggle->opendatasets) (0.5.1)\n",
            "Requirement already satisfied: text-unidecode>=1.3 in /usr/local/lib/python3.10/dist-packages (from python-slugify->kaggle->opendatasets) (1.3)\n",
            "Requirement already satisfied: charset-normalizer<4,>=2 in /usr/local/lib/python3.10/dist-packages (from requests->kaggle->opendatasets) (3.4.0)\n",
            "Requirement already satisfied: idna<4,>=2.5 in /usr/local/lib/python3.10/dist-packages (from requests->kaggle->opendatasets) (3.10)\n",
            "Downloading opendatasets-0.1.22-py3-none-any.whl (15 kB)\n",
            "Installing collected packages: opendatasets\n",
            "Successfully installed opendatasets-0.1.22\n",
            "Please provide your Kaggle credentials to download this dataset. Learn more: http://bit.ly/kaggle-creds\n",
            "Your Kaggle username: hugomaharavo\n",
            "Your Kaggle Key: ··········\n",
            "Downloading udea-ai4eng-20242.zip to ./udea-ai4eng-20242\n"
          ]
        },
        {
          "output_type": "stream",
          "name": "stderr",
          "text": [
            "100%|██████████| 20.1M/20.1M [00:00<00:00, 74.7MB/s]\n"
          ]
        },
        {
          "output_type": "stream",
          "name": "stdout",
          "text": [
            "\n",
            "Extracting archive ./udea-ai4eng-20242/udea-ai4eng-20242.zip to ./udea-ai4eng-20242\n",
            "Fichiers disponibles dans le dossier :  ['test.csv', 'train.csv', 'submission_example.csv']\n"
          ]
        }
      ],
      "source": [
        "# ACCEDER A LOS ARCHIVOS EN KAGGLE\n",
        "# 1.1 - Instale la biblioteca opendatasets para descargar conjuntos de datos directamente de Kaggle\n",
        "!pip install opendatasets\n",
        "\n",
        "# 1.2 - Importar los módulos necesarios\n",
        "import opendatasets as kaggle_data\n",
        "import os\n",
        "\n",
        "# 1.3 - Enlace al concurso de Kaggle\n",
        "competition_url = \"https://www.kaggle.com/competitions/udea-ai4eng-20242\"\n",
        "\n",
        "# 1.4 - Descargar los datos del concurso\n",
        "kaggle_data.download(competition_url)\n",
        "\n",
        "# 1.5 - Cambiar de directorio para acceder a la carpeta del conjunto de datos descargado\n",
        "project_dir = \"udea-ai4eng-20242\"\n",
        "os.chdir(project_dir)\n",
        "\n",
        "# 1.6 - Comprobación de los archivos descargados\n",
        "files = os.listdir()\n",
        "print(\"Fichiers disponibles dans le dossier : \", files)\n",
        "\n",
        "#2865fd2678d42f2f4002a048b30039ea <--- API key"
      ]
    },
    {
      "cell_type": "code",
      "source": [
        "# 2 - IMPORTAR BIBLIOTECAS\n",
        "# Importación de las bibliotecas necesarias para el tratamiento de datos y la formación de modelos\n",
        "import pandas as pd\n",
        "from sklearn.model_selection import train_test_split, StratifiedKFold, cross_val_score\n",
        "from sklearn.compose import ColumnTransformer\n",
        "from sklearn.pipeline import Pipeline\n",
        "from sklearn.preprocessing import OneHotEncoder, StandardScaler\n",
        "from sklearn.impute import SimpleImputer\n",
        "import lightgbm as lgb\n",
        "from sklearn.metrics import accuracy_score\n",
        "\n",
        "# 3 - CARGAR DATOS INICIALES\n",
        "# Carga de dataset train y test\n",
        "train_df = pd.read_csv(\"train.csv\")\n",
        "test_df = pd.read_csv(\"test.csv\")\n",
        "\n",
        "# 4 - APLICAR MAPPINGS Y CONVERSIONES\n",
        "# Mapping et conversiones de valores categóricos en valores numéricos para un mejor procesamiento\n",
        "\n",
        "# Conversión de valores ordinales en la columna 'ESTU_VALORMATRICULAUNIVERSIDAD\n",
        "tuition_average_mapping = {\n",
        "    \"No pagó matrícula\": 0.0, \"Menos de 500 mil\": 0.25, \"Entre 500 mil y menos de 1 millón\": 0.75,\n",
        "    \"Entre 1 millón y menos de 2.5 millones\": 1.75, \"Entre 2.5 millones y menos de 4 millones\": 3.25,\n",
        "    \"Entre 4 millions et moins de 5.5 millions\": 4.75, \"Entre 5.5 millions et menos de 7 millones\": 6.25, \"Más de 7 millones\": 7.5\n",
        "}\n",
        "train_df['ESTU_VALORMATRICULAUNIVERSIDAD'] = train_df['ESTU_VALORMATRICULAUNIVERSIDAD'].map(tuition_average_mapping)\n",
        "test_df['ESTU_VALORMATRICULAUNIVERSIDAD'] = test_df['ESTU_VALORMATRICULAUNIVERSIDAD'].map(tuition_average_mapping)\n",
        "\n",
        "# Conversión de valores ordinales en la columna 'FAMI_ESTRATOVIVIENDA'\n",
        "housing_strata_mapping = {\"Estrato 1\": 1, \"Estrato 2\": 2, \"Estrato 3\": 3, \"Estrato 4\": 4, \"Estrato 5\": 5, \"Estrato 6\": 6, \"Sin Estrato\": None}\n",
        "train_df['FAMI_ESTRATOVIVIENDA'] = train_df['FAMI_ESTRATOVIVIENDA'].map(housing_strata_mapping)\n",
        "test_df['FAMI_ESTRATOVIVIENDA'] = test_df['FAMI_ESTRATOVIVIENDA'].map(housing_strata_mapping)\n",
        "\n",
        "# Conversión de columnas binarias en 0 y 1 para las columnas 'FAMI_TIENEINTERNET' et 'ESTU_PAGOMATRICULAPROPIO'\n",
        "binary_mappings = {\"Si\": 1, \"No\": 0}\n",
        "train_df['FAMI_TIENEINTERNET'] = train_df['FAMI_TIENEINTERNET'].map(binary_mappings)\n",
        "test_df['FAMI_TIENEINTERNET'] = test_df['FAMI_TIENEINTERNET'].map(binary_mappings)\n",
        "train_df['ESTU_PAGOMATRICULAPROPIO'] = train_df['ESTU_PAGOMATRICULAPROPIO'].map(binary_mappings)\n",
        "test_df['ESTU_PAGOMATRICULAPROPIO'] = test_df['ESTU_PAGOMATRICULAPROPIO'].map(binary_mappings)\n",
        "\n",
        "# Codificación de la variable de destino 'RENDIMIENTO_GLOBAL' en valores numéricos\n",
        "target_mapping = {'bajo': 0, 'medio-bajo': 1, 'medio-alto': 2, 'alto': 3}\n",
        "train_df['RENDIMIENTO_GLOBAL'] = train_df['RENDIMIENTO_GLOBAL'].map(target_mapping)\n",
        "\n",
        "# 5 - SEPARACIÓN DE CARACTERÍSTICAS Y VARIABLE OBJETIVO\n",
        "# Separación de características (X) y objetivo (y)\n",
        "X_train = train_df.drop(columns=['ID', 'RENDIMIENTO_GLOBAL'])\n",
        "y_train = train_df['RENDIMIENTO_GLOBAL']\n",
        "X_test = test_df.drop(columns=['ID'])\n",
        "\n",
        "# 6 - IDENTIFICACIÓN DE LAS COLUMNAS DE PRETRATAMIENTO\n",
        "# Identificación de las columnas numéricas y categóricas de pretratamiento\n",
        "numerical_cols = X_train.select_dtypes(include=['float64', 'int64']).columns\n",
        "categorical_cols = X_train.select_dtypes(include=['object']).columns\n",
        "\n",
        "# 7 - PREPROCESAMIENTO PIPELINE\n",
        "# Configuración del preprocesamiento para datos numéricos y categóricos\n",
        "preprocessor = ColumnTransformer(\n",
        "    transformers=[\n",
        "        ('num', Pipeline(steps=[\n",
        "            ('imputer', SimpleImputer(strategy='median')),  # Imputación de valores numéricos perdidos\n",
        "            ('scaler', StandardScaler())  # Normalización de datos numericos\n",
        "        ]), numerical_cols),\n",
        "        ('cat', OneHotEncoder(handle_unknown='ignore'), categorical_cols)  # Codificación One-Hot para columnas categóricas\n",
        "    ]\n",
        ")\n",
        "\n",
        "# 8 - MODELO Y VALIDACIÓN\n",
        "# Configuration du modèle LightGBM\n",
        "model = lgb.LGBMClassifier(random_state=42)\n",
        "\n",
        "# Creación de un pipeline completo que incluya el preprocesador y el modelo\n",
        "pipeline = Pipeline(steps=[\n",
        "    ('preprocessor', preprocessor),\n",
        "    ('classifier', model)\n",
        "])\n",
        "\n",
        "# Validación cruzada estratificada para evaluar el rendimiento del modelo\n",
        "cv = StratifiedKFold(n_splits=5, shuffle=True, random_state=42)\n",
        "cv_scores = cross_val_score(pipeline, X_train, y_train, cv=cv, scoring='accuracy')\n",
        "\n",
        "# 9 - ENTRENAMIENTO DEL MODELO\n",
        "# Entrenamiento del pipeline en el dataset train completo\n",
        "pipeline.fit(X_train, y_train)\n",
        "\n",
        "# 10 - HACER PREDICCIONES SOBRE EL CONJUNTO DE PRUEBAS\n",
        "# Predicciones sobre el conjunto de pruebas\n",
        "predictions = pipeline.predict(X_test)\n",
        "\n",
        "# 11 - CONVERTIR LAS PREDICCIONES EN PALABRAS ORIGINALES\n",
        "# Invertir la codificación de las clases para obtener las predicciones en su formato original.\n",
        "target_inverse_mapping = {0: 'bajo', 1: 'medio-bajo', 2: 'medio-alto', 3: 'alto'}\n",
        "predictions_labels = [target_inverse_mapping[pred] for pred in predictions]\n",
        "\n",
        "# 12 - CREAR EL FICHERO DE PRESENTACIÓN\n",
        "# Creación del fichero de envío con predicciones\n",
        "submission_df = pd.DataFrame({\n",
        "    \"ID\": test_df['ID'],\n",
        "    \"RENDIMIENTO_GLOBAL\": predictions_labels\n",
        "})\n",
        "submission_df.to_csv(\"submission.csv\", index=False)\n",
        "\n",
        "# Confirmación de la creación del fichero de envío\n",
        "print(\"Fichero submission.csv generado con éxito\")\n",
        "print(\"Dimensiones de la clasificación submission.csv (filas, columnas) \", submission_df.shape)"
      ],
      "metadata": {
        "colab": {
          "base_uri": "https://localhost:8080/"
        },
        "id": "EHJ-Mye--_Zr",
        "outputId": "52251323-c09a-4014-fcb8-b9edbb29388d"
      },
      "execution_count": 3,
      "outputs": [
        {
          "output_type": "stream",
          "name": "stderr",
          "text": [
            "/usr/local/lib/python3.10/dist-packages/dask/dataframe/__init__.py:42: FutureWarning: \n",
            "Dask dataframe query planning is disabled because dask-expr is not installed.\n",
            "\n",
            "You can install it with `pip install dask[dataframe]` or `conda install dask`.\n",
            "This will raise in a future version.\n",
            "\n",
            "  warnings.warn(msg, FutureWarning)\n"
          ]
        },
        {
          "output_type": "stream",
          "name": "stdout",
          "text": [
            "[LightGBM] [Info] Auto-choosing row-wise multi-threading, the overhead of testing was 0.022392 seconds.\n",
            "You can set `force_row_wise=true` to remove the overhead.\n",
            "And if memory is not enough, you can set `force_col_wise=true`.\n",
            "[LightGBM] [Info] Total Bins 1690\n",
            "[LightGBM] [Info] Number of data points in the train set: 554000, number of used features: 835\n",
            "[LightGBM] [Info] Start training from score -1.387096\n",
            "[LightGBM] [Info] Start training from score -1.391216\n",
            "[LightGBM] [Info] Start training from score -1.395033\n",
            "[LightGBM] [Info] Start training from score -1.371986\n",
            "[LightGBM] [Info] Auto-choosing row-wise multi-threading, the overhead of testing was 0.021133 seconds.\n",
            "You can set `force_row_wise=true` to remove the overhead.\n",
            "And if memory is not enough, you can set `force_col_wise=true`.\n",
            "[LightGBM] [Info] Total Bins 1694\n",
            "[LightGBM] [Info] Number of data points in the train set: 554000, number of used features: 837\n",
            "[LightGBM] [Info] Start training from score -1.387089\n",
            "[LightGBM] [Info] Start training from score -1.391216\n",
            "[LightGBM] [Info] Start training from score -1.395033\n",
            "[LightGBM] [Info] Start training from score -1.371993\n",
            "[LightGBM] [Info] Auto-choosing row-wise multi-threading, the overhead of testing was 0.032781 seconds.\n",
            "You can set `force_row_wise=true` to remove the overhead.\n",
            "And if memory is not enough, you can set `force_col_wise=true`.\n",
            "[LightGBM] [Info] Total Bins 1696\n",
            "[LightGBM] [Info] Number of data points in the train set: 554000, number of used features: 838\n",
            "[LightGBM] [Info] Start training from score -1.387089\n",
            "[LightGBM] [Info] Start training from score -1.391216\n",
            "[LightGBM] [Info] Start training from score -1.395033\n",
            "[LightGBM] [Info] Start training from score -1.371993\n",
            "[LightGBM] [Info] Auto-choosing row-wise multi-threading, the overhead of testing was 0.020934 seconds.\n",
            "You can set `force_row_wise=true` to remove the overhead.\n",
            "And if memory is not enough, you can set `force_col_wise=true`.\n",
            "[LightGBM] [Info] Total Bins 1684\n",
            "[LightGBM] [Info] Number of data points in the train set: 554000, number of used features: 832\n",
            "[LightGBM] [Info] Start training from score -1.387089\n",
            "[LightGBM] [Info] Start training from score -1.391216\n",
            "[LightGBM] [Info] Start training from score -1.395033\n",
            "[LightGBM] [Info] Start training from score -1.371993\n",
            "[LightGBM] [Info] Auto-choosing row-wise multi-threading, the overhead of testing was 0.021378 seconds.\n",
            "You can set `force_row_wise=true` to remove the overhead.\n",
            "And if memory is not enough, you can set `force_col_wise=true`.\n",
            "[LightGBM] [Info] Total Bins 1696\n",
            "[LightGBM] [Info] Number of data points in the train set: 554000, number of used features: 838\n",
            "[LightGBM] [Info] Start training from score -1.387096\n",
            "[LightGBM] [Info] Start training from score -1.391216\n",
            "[LightGBM] [Info] Start training from score -1.395026\n",
            "[LightGBM] [Info] Start training from score -1.371993\n",
            "[LightGBM] [Info] Auto-choosing row-wise multi-threading, the overhead of testing was 0.026373 seconds.\n",
            "You can set `force_row_wise=true` to remove the overhead.\n",
            "And if memory is not enough, you can set `force_col_wise=true`.\n",
            "[LightGBM] [Info] Total Bins 1772\n",
            "[LightGBM] [Info] Number of data points in the train set: 692500, number of used features: 876\n",
            "[LightGBM] [Info] Start training from score -1.387092\n",
            "[LightGBM] [Info] Start training from score -1.391216\n",
            "[LightGBM] [Info] Start training from score -1.395031\n",
            "[LightGBM] [Info] Start training from score -1.371991\n",
            "Fichero submission.csv generado con éxito\n",
            "Dimensiones de la clasificación submission.csv (filas, columnas)  (296786, 2)\n"
          ]
        }
      ]
    },
    {
      "cell_type": "code",
      "source": [
        "# 13 - DESCARGAR EL ARCHIVO\n",
        "from google.colab import files\n",
        "files.download('submission.csv')"
      ],
      "metadata": {
        "colab": {
          "base_uri": "https://localhost:8080/",
          "height": 17
        },
        "id": "r75XnEN9Dco5",
        "outputId": "60397adb-f3e3-424a-a81b-4a91a8f017f5"
      },
      "execution_count": 4,
      "outputs": [
        {
          "output_type": "display_data",
          "data": {
            "text/plain": [
              "<IPython.core.display.Javascript object>"
            ],
            "application/javascript": [
              "\n",
              "    async function download(id, filename, size) {\n",
              "      if (!google.colab.kernel.accessAllowed) {\n",
              "        return;\n",
              "      }\n",
              "      const div = document.createElement('div');\n",
              "      const label = document.createElement('label');\n",
              "      label.textContent = `Downloading \"${filename}\": `;\n",
              "      div.appendChild(label);\n",
              "      const progress = document.createElement('progress');\n",
              "      progress.max = size;\n",
              "      div.appendChild(progress);\n",
              "      document.body.appendChild(div);\n",
              "\n",
              "      const buffers = [];\n",
              "      let downloaded = 0;\n",
              "\n",
              "      const channel = await google.colab.kernel.comms.open(id);\n",
              "      // Send a message to notify the kernel that we're ready.\n",
              "      channel.send({})\n",
              "\n",
              "      for await (const message of channel.messages) {\n",
              "        // Send a message to notify the kernel that we're ready.\n",
              "        channel.send({})\n",
              "        if (message.buffers) {\n",
              "          for (const buffer of message.buffers) {\n",
              "            buffers.push(buffer);\n",
              "            downloaded += buffer.byteLength;\n",
              "            progress.value = downloaded;\n",
              "          }\n",
              "        }\n",
              "      }\n",
              "      const blob = new Blob(buffers, {type: 'application/binary'});\n",
              "      const a = document.createElement('a');\n",
              "      a.href = window.URL.createObjectURL(blob);\n",
              "      a.download = filename;\n",
              "      div.appendChild(a);\n",
              "      a.click();\n",
              "      div.remove();\n",
              "    }\n",
              "  "
            ]
          },
          "metadata": {}
        },
        {
          "output_type": "display_data",
          "data": {
            "text/plain": [
              "<IPython.core.display.Javascript object>"
            ],
            "application/javascript": [
              "download(\"download_86c6fc7c-46ba-48e8-8297-32293bd75dfa\", \"submission.csv\", 4235332)"
            ]
          },
          "metadata": {}
        }
      ]
    }
  ]
}